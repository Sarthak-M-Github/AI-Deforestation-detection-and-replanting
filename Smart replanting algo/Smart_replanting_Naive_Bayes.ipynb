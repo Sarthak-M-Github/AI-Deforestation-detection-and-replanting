{
  "nbformat": 4,
  "nbformat_minor": 0,
  "metadata": {
    "colab": {
      "provenance": []
    },
    "kernelspec": {
      "name": "python3",
      "display_name": "Python 3"
    },
    "language_info": {
      "name": "python"
    }
  },
  "cells": [
    {
      "cell_type": "code",
      "source": [
        "import pandas as pd\n",
        "import numpy as np\n",
        "from sklearn.utils import resample\n",
        "from sklearn.model_selection import train_test_split\n",
        "from sklearn.preprocessing import LabelEncoder, StandardScaler, PolynomialFeatures\n",
        "from sklearn.naive_bayes import GaussianNB\n",
        "from sklearn.metrics import accuracy_score, classification_report\n",
        "import joblib\n",
        "\n",
        "# 📦 Load dataset\n",
        "df = pd.read_csv(\"smart_replanting_dataset.csv\")\n",
        "\n",
        "# 🧱 Split features and target\n",
        "X = df.drop([\"Label\", \"Grouped_Label\"], axis=1)\n",
        "y = df[\"Grouped_Label\"]\n",
        "\n",
        "# 🔤 One-hot encode categorical features\n",
        "X_encoded = pd.get_dummies(X, columns=[\"Region\", \"Soil_Type\"])\n",
        "\n",
        "# 🏷️ Encode target\n",
        "le = LabelEncoder()\n",
        "y_encoded = le.fit_transform(y)\n",
        "df_encoded = pd.DataFrame(X_encoded)\n",
        "df_encoded[\"Target\"] = y_encoded\n",
        "\n",
        "# 📊 Upsample each class to match the largest class\n",
        "class_counts = df_encoded[\"Target\"].value_counts()\n",
        "max_size = class_counts.max()\n",
        "\n",
        "dfs = []\n",
        "for _, group in df_encoded.groupby(\"Target\"):\n",
        "    dfs.append(group.sample(max_size, replace=True, random_state=42))\n",
        "df_upsampled = pd.concat(dfs)\n",
        "\n",
        "# 🧪 Final features and labels\n",
        "X_bal = df_upsampled.drop(\"Target\", axis=1)\n",
        "y_bal = df_upsampled[\"Target\"]\n",
        "\n",
        "# 🔄 Scale features\n",
        "scaler = StandardScaler()\n",
        "X_scaled = scaler.fit_transform(X_bal)\n",
        "\n",
        "# ➕ Add Polynomial Features (degree 2)\n",
        "poly = PolynomialFeatures(degree=2, include_bias=False)\n",
        "X_poly = poly.fit_transform(X_scaled)\n",
        "\n",
        "# 🎲 Train/Test Split\n",
        "X_train, X_test, y_train, y_test = train_test_split(\n",
        "    X_poly, y_bal, test_size=0.2, stratify=y_bal, random_state=42\n",
        ")\n",
        "\n",
        "# 🧠 Train Naive Bayes\n",
        "model = GaussianNB()\n",
        "model.fit(X_train, y_train)\n",
        "\n",
        "# 🧪 Evaluation\n",
        "y_pred = model.predict(X_test)\n",
        "acc = accuracy_score(y_test, y_pred)\n",
        "print(f\"✅ Accuracy: {acc:.2f}\")\n",
        "print(\"\\n📊 Classification Report:\")\n",
        "print(classification_report(y_test, y_pred, target_names=le.classes_, zero_division=0))\n",
        "\n",
        "\n",
        "\n",
        "\n"
      ],
      "metadata": {
        "colab": {
          "base_uri": "https://localhost:8080/"
        },
        "id": "IS-SpEc8fCRI",
        "outputId": "1d254847-4543-45f8-d680-eca226f17b54"
      },
      "execution_count": 9,
      "outputs": [
        {
          "output_type": "stream",
          "name": "stdout",
          "text": [
            "✅ Accuracy: 0.57\n",
            "\n",
            "📊 Classification Report:\n",
            "                  precision    recall  f1-score   support\n",
            "\n",
            "DroughtResistant       0.48      1.00      0.65        13\n",
            "      FastGrower       0.00      0.00      0.00        14\n",
            "        Hardwood       0.67      0.14      0.24        14\n",
            "        Mangrove       0.88      1.00      0.93        14\n",
            "       Medicinal       0.47      1.00      0.64        14\n",
            "       ShadeTree       0.57      0.29      0.38        14\n",
            "\n",
            "        accuracy                           0.57        83\n",
            "       macro avg       0.51      0.57      0.47        83\n",
            "    weighted avg       0.51      0.57      0.47        83\n",
            "\n"
          ]
        }
      ]
    }
  ]
}